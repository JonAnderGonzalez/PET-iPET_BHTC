{
  "nbformat": 4,
  "nbformat_minor": 0,
  "metadata": {
    "colab": {
      "name": "PET-iPET_BHTC.ipynb",
      "provenance": [],
      "collapsed_sections": []
    },
    "kernelspec": {
      "name": "python3",
      "display_name": "Python 3"
    },
    "language_info": {
      "name": "python"
    },
    "accelerator": "GPU"
  },
  "cells": [
    {
      "cell_type": "markdown",
      "source": [
        "#PET implementation for Basque corpora.\n",
        "Though different semi-supervised methods have been tested for low resource scenarios, most of them are applied to the English language. Basque corpora and models will encounter this scenarios more often. Thus, we propose to apply one of those semi-supervised methods to the case of Basque. \n",
        "\n",
        "In this notebook we will use the inplementation of [PET](https://github.com/timoschick/pet) to test if it can be used in Basque corpora and models. \n",
        "\n",
        "The procedure will be tested on the [Basque Headlines Topic Classification (BHTC)](https://hizkuntzateknologiak.elhuyar.eus/es/recursos). A Basque corpus made up of headlines from different news of the Argia newspaper. This headlines are labeled with 12 different topics. \n",
        "\n",
        "The chosen pretrained language model to be used throughout the procedure is the BERTeus model. This model had already been proven useful in the topic classification task in  [Give your Text Representation Models some Love: the Case for Basque](https://arxiv.org/abs/2004.00033). Thus, we will check if the model still performs well when training it in a few-shot scenario.\n",
        "\n",
        "The pretrained version (without having been trained in a downstream task) will be used to compare the results obtained using PET (and iPET) and doing the usual supervised training in a few-shot scenario."
      ],
      "metadata": {
        "id": "-4lgNxRxkqcb"
      }
    },
    {
      "cell_type": "code",
      "source": [
        "from google.colab import drive\n",
        "drive.mount('/content/drive/', force_remount=True)\n",
        "%cd /content/drive/MyDrive/Colab Notebooks/PET_basque\n",
        "# ! git clone https://github.com/timoschick/pet.git\n",
        "! pip install -r pet/requirements.txt\n",
        "#restart the runtime"
      ],
      "metadata": {
        "id": "zTzXmXW5Ey7D"
      },
      "execution_count": null,
      "outputs": []
    },
    {
      "cell_type": "code",
      "source": [
        "%cd /content/drive/MyDrive/Colab Notebooks/PET_basque/pet"
      ],
      "metadata": {
        "colab": {
          "base_uri": "https://localhost:8080/"
        },
        "id": "bA1zCns2nhRq",
        "outputId": "d08e129f-7dbe-45e6-bb7c-65ad3f011d15"
      },
      "execution_count": null,
      "outputs": [
        {
          "output_type": "stream",
          "name": "stdout",
          "text": [
            "/content/drive/MyDrive/Colab Notebooks/PET_basque/pet\n"
          ]
        }
      ]
    },
    {
      "cell_type": "code",
      "source": [
        "import pandas as pd\n",
        "from collections import Counter, defaultdict\n",
        "import tensorflow as tf\n",
        "import torch"
      ],
      "metadata": {
        "id": "VpvSd2afViTS"
      },
      "execution_count": null,
      "outputs": []
    },
    {
      "cell_type": "code",
      "source": [
        "device_name = tf.test.gpu_device_name()\n",
        "if device_name != '/device:GPU:0':\n",
        "  raise SystemError('GPU device not found')\n",
        "print('Found GPU at: {}'.format(device_name))"
      ],
      "metadata": {
        "id": "-LJjEDqSVbv_",
        "colab": {
          "base_uri": "https://localhost:8080/"
        },
        "outputId": "9ee24e2a-0d59-4f43-8682-7857e41d9f4d"
      },
      "execution_count": null,
      "outputs": [
        {
          "output_type": "stream",
          "name": "stdout",
          "text": [
            "Found GPU at: /device:GPU:0\n"
          ]
        }
      ]
    },
    {
      "cell_type": "code",
      "source": [
        "device = torch.device(\"cuda\" if torch.cuda.is_available() else \"cpu\")\n",
        "n_gpu = torch.cuda.device_count()\n",
        "torch.cuda.get_device_name(0)"
      ],
      "metadata": {
        "id": "EFOnGBnOVm9o",
        "colab": {
          "base_uri": "https://localhost:8080/",
          "height": 35
        },
        "outputId": "64c9f6c7-694e-44f9-e8f6-728ddc8b48b2"
      },
      "execution_count": null,
      "outputs": [
        {
          "output_type": "execute_result",
          "data": {
            "text/plain": [
              "'Tesla K80'"
            ],
            "application/vnd.google.colaboratory.intrinsic+json": {
              "type": "string"
            }
          },
          "metadata": {},
          "execution_count": 5
        }
      ]
    },
    {
      "cell_type": "code",
      "source": [
        "train = pd.read_csv(\"/content/drive/MyDrive/Colab Notebooks/PET_basque/bhtc_corpus/train_original.tsv\", sep=\"\\t\", header=None)\n",
        "dev = pd.read_csv(\"/content/drive/MyDrive/Colab Notebooks/PET_basque/bhtc_corpus/dev_original.tsv\", sep=\"\\t\", header=None)\n",
        "train.info()\n",
        "train.head()"
      ],
      "metadata": {
        "colab": {
          "base_uri": "https://localhost:8080/",
          "height": 370
        },
        "id": "lExSZXBkRHIi",
        "outputId": "c79e0e4c-a8e9-479e-fc37-037ff835ddb4"
      },
      "execution_count": null,
      "outputs": [
        {
          "output_type": "stream",
          "name": "stdout",
          "text": [
            "<class 'pandas.core.frame.DataFrame'>\n",
            "RangeIndex: 8682 entries, 0 to 8681\n",
            "Data columns (total 2 columns):\n",
            " #   Column  Non-Null Count  Dtype \n",
            "---  ------  --------------  ----- \n",
            " 0   0       8682 non-null   object\n",
            " 1   1       8682 non-null   object\n",
            "dtypes: object(2)\n",
            "memory usage: 135.8+ KB\n"
          ]
        },
        {
          "output_type": "execute_result",
          "data": {
            "text/plain": [
              "            0                                                  1\n",
              "0     Euskara  म र च १९ क द न ब स क न गर कहर ल क न पन द शल आफ...\n",
              "1    Politika  agiri baten bitartez adierazi dute mugimenduko...\n",
              "2     Euskara  ekainaren 14an heldu den igandean behaskaneko ...\n",
              "3    Politika  ekineko zuzendaritzako kide izatea leporatuta ...\n",
              "4  Ingurumena  energi trantsizioa landuko dute larunbatean ir..."
            ],
            "text/html": [
              "\n",
              "  <div id=\"df-912309b1-6294-46e8-bcb9-c58e5f1b4b31\">\n",
              "    <div class=\"colab-df-container\">\n",
              "      <div>\n",
              "<style scoped>\n",
              "    .dataframe tbody tr th:only-of-type {\n",
              "        vertical-align: middle;\n",
              "    }\n",
              "\n",
              "    .dataframe tbody tr th {\n",
              "        vertical-align: top;\n",
              "    }\n",
              "\n",
              "    .dataframe thead th {\n",
              "        text-align: right;\n",
              "    }\n",
              "</style>\n",
              "<table border=\"1\" class=\"dataframe\">\n",
              "  <thead>\n",
              "    <tr style=\"text-align: right;\">\n",
              "      <th></th>\n",
              "      <th>0</th>\n",
              "      <th>1</th>\n",
              "    </tr>\n",
              "  </thead>\n",
              "  <tbody>\n",
              "    <tr>\n",
              "      <th>0</th>\n",
              "      <td>Euskara</td>\n",
              "      <td>म र च १९ क द न ब स क न गर कहर ल क न पन द शल आफ...</td>\n",
              "    </tr>\n",
              "    <tr>\n",
              "      <th>1</th>\n",
              "      <td>Politika</td>\n",
              "      <td>agiri baten bitartez adierazi dute mugimenduko...</td>\n",
              "    </tr>\n",
              "    <tr>\n",
              "      <th>2</th>\n",
              "      <td>Euskara</td>\n",
              "      <td>ekainaren 14an heldu den igandean behaskaneko ...</td>\n",
              "    </tr>\n",
              "    <tr>\n",
              "      <th>3</th>\n",
              "      <td>Politika</td>\n",
              "      <td>ekineko zuzendaritzako kide izatea leporatuta ...</td>\n",
              "    </tr>\n",
              "    <tr>\n",
              "      <th>4</th>\n",
              "      <td>Ingurumena</td>\n",
              "      <td>energi trantsizioa landuko dute larunbatean ir...</td>\n",
              "    </tr>\n",
              "  </tbody>\n",
              "</table>\n",
              "</div>\n",
              "      <button class=\"colab-df-convert\" onclick=\"convertToInteractive('df-912309b1-6294-46e8-bcb9-c58e5f1b4b31')\"\n",
              "              title=\"Convert this dataframe to an interactive table.\"\n",
              "              style=\"display:none;\">\n",
              "        \n",
              "  <svg xmlns=\"http://www.w3.org/2000/svg\" height=\"24px\"viewBox=\"0 0 24 24\"\n",
              "       width=\"24px\">\n",
              "    <path d=\"M0 0h24v24H0V0z\" fill=\"none\"/>\n",
              "    <path d=\"M18.56 5.44l.94 2.06.94-2.06 2.06-.94-2.06-.94-.94-2.06-.94 2.06-2.06.94zm-11 1L8.5 8.5l.94-2.06 2.06-.94-2.06-.94L8.5 2.5l-.94 2.06-2.06.94zm10 10l.94 2.06.94-2.06 2.06-.94-2.06-.94-.94-2.06-.94 2.06-2.06.94z\"/><path d=\"M17.41 7.96l-1.37-1.37c-.4-.4-.92-.59-1.43-.59-.52 0-1.04.2-1.43.59L10.3 9.45l-7.72 7.72c-.78.78-.78 2.05 0 2.83L4 21.41c.39.39.9.59 1.41.59.51 0 1.02-.2 1.41-.59l7.78-7.78 2.81-2.81c.8-.78.8-2.07 0-2.86zM5.41 20L4 18.59l7.72-7.72 1.47 1.35L5.41 20z\"/>\n",
              "  </svg>\n",
              "      </button>\n",
              "      \n",
              "  <style>\n",
              "    .colab-df-container {\n",
              "      display:flex;\n",
              "      flex-wrap:wrap;\n",
              "      gap: 12px;\n",
              "    }\n",
              "\n",
              "    .colab-df-convert {\n",
              "      background-color: #E8F0FE;\n",
              "      border: none;\n",
              "      border-radius: 50%;\n",
              "      cursor: pointer;\n",
              "      display: none;\n",
              "      fill: #1967D2;\n",
              "      height: 32px;\n",
              "      padding: 0 0 0 0;\n",
              "      width: 32px;\n",
              "    }\n",
              "\n",
              "    .colab-df-convert:hover {\n",
              "      background-color: #E2EBFA;\n",
              "      box-shadow: 0px 1px 2px rgba(60, 64, 67, 0.3), 0px 1px 3px 1px rgba(60, 64, 67, 0.15);\n",
              "      fill: #174EA6;\n",
              "    }\n",
              "\n",
              "    [theme=dark] .colab-df-convert {\n",
              "      background-color: #3B4455;\n",
              "      fill: #D2E3FC;\n",
              "    }\n",
              "\n",
              "    [theme=dark] .colab-df-convert:hover {\n",
              "      background-color: #434B5C;\n",
              "      box-shadow: 0px 1px 3px 1px rgba(0, 0, 0, 0.15);\n",
              "      filter: drop-shadow(0px 1px 2px rgba(0, 0, 0, 0.3));\n",
              "      fill: #FFFFFF;\n",
              "    }\n",
              "  </style>\n",
              "\n",
              "      <script>\n",
              "        const buttonEl =\n",
              "          document.querySelector('#df-912309b1-6294-46e8-bcb9-c58e5f1b4b31 button.colab-df-convert');\n",
              "        buttonEl.style.display =\n",
              "          google.colab.kernel.accessAllowed ? 'block' : 'none';\n",
              "\n",
              "        async function convertToInteractive(key) {\n",
              "          const element = document.querySelector('#df-912309b1-6294-46e8-bcb9-c58e5f1b4b31');\n",
              "          const dataTable =\n",
              "            await google.colab.kernel.invokeFunction('convertToInteractive',\n",
              "                                                     [key], {});\n",
              "          if (!dataTable) return;\n",
              "\n",
              "          const docLinkHtml = 'Like what you see? Visit the ' +\n",
              "            '<a target=\"_blank\" href=https://colab.research.google.com/notebooks/data_table.ipynb>data table notebook</a>'\n",
              "            + ' to learn more about interactive tables.';\n",
              "          element.innerHTML = '';\n",
              "          dataTable['output_type'] = 'display_data';\n",
              "          await google.colab.output.renderOutput(dataTable, element);\n",
              "          const docLink = document.createElement('div');\n",
              "          docLink.innerHTML = docLinkHtml;\n",
              "          element.appendChild(docLink);\n",
              "        }\n",
              "      </script>\n",
              "    </div>\n",
              "  </div>\n",
              "  "
            ]
          },
          "metadata": {},
          "execution_count": 6
        }
      ]
    },
    {
      "cell_type": "code",
      "source": [
        "#There are repeated examples in the training dataset\n",
        "print('Unique comments: ', train.iloc[:,1].nunique() == train.shape[0])\n",
        "print('Null values: ', train.isnull().values.any())"
      ],
      "metadata": {
        "colab": {
          "base_uri": "https://localhost:8080/"
        },
        "id": "1HrIHAOgWMSA",
        "outputId": "f08423e4-c306-4f4e-f1c1-ea707666e71b"
      },
      "execution_count": null,
      "outputs": [
        {
          "output_type": "stream",
          "name": "stdout",
          "text": [
            "Unique comments:  False\n",
            "Null values:  False\n"
          ]
        }
      ]
    },
    {
      "cell_type": "code",
      "source": [
        "#Usually the headlines are sort but outliers can appear.\n",
        "print('average sentence length: ', train.iloc[:,1].str.split().str.len().mean())\n",
        "print('stdev sentence length: ', train.iloc[:,1].str.split().str.len().std())\n",
        "print('max sentence length: ', train.iloc[:,1].str.split().str.len().max())"
      ],
      "metadata": {
        "colab": {
          "base_uri": "https://localhost:8080/"
        },
        "id": "gqIUmIBaXc3J",
        "outputId": "5951e695-021d-4173-f7e0-346e94e477a2"
      },
      "execution_count": null,
      "outputs": [
        {
          "output_type": "stream",
          "name": "stdout",
          "text": [
            "average sentence length:  33.744413729555404\n",
            "stdev sentence length:  16.202055636557947\n",
            "max sentence length:  200\n"
          ]
        }
      ]
    },
    {
      "cell_type": "code",
      "source": [
        "#The labels are unbalanced.\n",
        "Counter(train.iloc[:,0]).most_common()"
      ],
      "metadata": {
        "colab": {
          "base_uri": "https://localhost:8080/"
        },
        "id": "pUKd7EUWYh_6",
        "outputId": "f06ffa4e-73b6-4333-c338-b947748cc54e"
      },
      "execution_count": null,
      "outputs": [
        {
          "output_type": "execute_result",
          "data": {
            "text/plain": [
              "[('Gizartea', 2438),\n",
              " ('Politika', 1349),\n",
              " ('Nazioartea', 1092),\n",
              " ('Ekonomia', 817),\n",
              " ('Ingurumena', 790),\n",
              " ('Kultura', 777),\n",
              " ('Euskara', 495),\n",
              " ('Historia', 330),\n",
              " ('Iritzia', 303),\n",
              " ('Komunikazioa', 119),\n",
              " ('Euskal_Herria', 109),\n",
              " ('Zientzia', 63)]"
            ]
          },
          "metadata": {},
          "execution_count": 13
        }
      ]
    },
    {
      "cell_type": "code",
      "source": [
        "train[train.iloc[:,1].duplicated(keep=False).values].sort_values(1)"
      ],
      "metadata": {
        "colab": {
          "base_uri": "https://localhost:8080/",
          "height": 424
        },
        "id": "iEuwN5QmYR23",
        "outputId": "a54ed446-cb1d-4239-8626-d32cec8f7c30"
      },
      "execution_count": null,
      "outputs": [
        {
          "output_type": "execute_result",
          "data": {
            "text/plain": [
              "             0                                                  1\n",
              "2466  Gizartea  124 274 pertsona deituak zituen gure esku dago...\n",
              "8118  Gizartea  124 274 pertsona deituak zituen gure esku dago...\n",
              "5698  Ekonomia  157 kaleratze aurreikusten dituen espedientea ...\n",
              "439   Ekonomia  157 kaleratze aurreikusten dituen espedientea ...\n",
              "7394   Iritzia  17 28 ziren ordu penintsularra eta negua argit...\n",
              "...        ...                                                ...\n",
              "8141  Gizartea  teoria feministak praktikara eraman dituzte an...\n",
              "406   Politika  unai rementeria bizkaiko ahaldun nagusiak aurk...\n",
              "2981  Politika  unai rementeria bizkaiko ahaldun nagusiak aurk...\n",
              "8613  Gizartea  usurbilgo geltokian mozal legearen aurkako pro...\n",
              "8070  Gizartea  usurbilgo geltokian mozal legearen aurkako pro...\n",
              "\n",
              "[172 rows x 2 columns]"
            ],
            "text/html": [
              "\n",
              "  <div id=\"df-2309ad31-4a28-4fd4-90ac-697635239441\">\n",
              "    <div class=\"colab-df-container\">\n",
              "      <div>\n",
              "<style scoped>\n",
              "    .dataframe tbody tr th:only-of-type {\n",
              "        vertical-align: middle;\n",
              "    }\n",
              "\n",
              "    .dataframe tbody tr th {\n",
              "        vertical-align: top;\n",
              "    }\n",
              "\n",
              "    .dataframe thead th {\n",
              "        text-align: right;\n",
              "    }\n",
              "</style>\n",
              "<table border=\"1\" class=\"dataframe\">\n",
              "  <thead>\n",
              "    <tr style=\"text-align: right;\">\n",
              "      <th></th>\n",
              "      <th>0</th>\n",
              "      <th>1</th>\n",
              "    </tr>\n",
              "  </thead>\n",
              "  <tbody>\n",
              "    <tr>\n",
              "      <th>2466</th>\n",
              "      <td>Gizartea</td>\n",
              "      <td>124 274 pertsona deituak zituen gure esku dago...</td>\n",
              "    </tr>\n",
              "    <tr>\n",
              "      <th>8118</th>\n",
              "      <td>Gizartea</td>\n",
              "      <td>124 274 pertsona deituak zituen gure esku dago...</td>\n",
              "    </tr>\n",
              "    <tr>\n",
              "      <th>5698</th>\n",
              "      <td>Ekonomia</td>\n",
              "      <td>157 kaleratze aurreikusten dituen espedientea ...</td>\n",
              "    </tr>\n",
              "    <tr>\n",
              "      <th>439</th>\n",
              "      <td>Ekonomia</td>\n",
              "      <td>157 kaleratze aurreikusten dituen espedientea ...</td>\n",
              "    </tr>\n",
              "    <tr>\n",
              "      <th>7394</th>\n",
              "      <td>Iritzia</td>\n",
              "      <td>17 28 ziren ordu penintsularra eta negua argit...</td>\n",
              "    </tr>\n",
              "    <tr>\n",
              "      <th>...</th>\n",
              "      <td>...</td>\n",
              "      <td>...</td>\n",
              "    </tr>\n",
              "    <tr>\n",
              "      <th>8141</th>\n",
              "      <td>Gizartea</td>\n",
              "      <td>teoria feministak praktikara eraman dituzte an...</td>\n",
              "    </tr>\n",
              "    <tr>\n",
              "      <th>406</th>\n",
              "      <td>Politika</td>\n",
              "      <td>unai rementeria bizkaiko ahaldun nagusiak aurk...</td>\n",
              "    </tr>\n",
              "    <tr>\n",
              "      <th>2981</th>\n",
              "      <td>Politika</td>\n",
              "      <td>unai rementeria bizkaiko ahaldun nagusiak aurk...</td>\n",
              "    </tr>\n",
              "    <tr>\n",
              "      <th>8613</th>\n",
              "      <td>Gizartea</td>\n",
              "      <td>usurbilgo geltokian mozal legearen aurkako pro...</td>\n",
              "    </tr>\n",
              "    <tr>\n",
              "      <th>8070</th>\n",
              "      <td>Gizartea</td>\n",
              "      <td>usurbilgo geltokian mozal legearen aurkako pro...</td>\n",
              "    </tr>\n",
              "  </tbody>\n",
              "</table>\n",
              "<p>172 rows × 2 columns</p>\n",
              "</div>\n",
              "      <button class=\"colab-df-convert\" onclick=\"convertToInteractive('df-2309ad31-4a28-4fd4-90ac-697635239441')\"\n",
              "              title=\"Convert this dataframe to an interactive table.\"\n",
              "              style=\"display:none;\">\n",
              "        \n",
              "  <svg xmlns=\"http://www.w3.org/2000/svg\" height=\"24px\"viewBox=\"0 0 24 24\"\n",
              "       width=\"24px\">\n",
              "    <path d=\"M0 0h24v24H0V0z\" fill=\"none\"/>\n",
              "    <path d=\"M18.56 5.44l.94 2.06.94-2.06 2.06-.94-2.06-.94-.94-2.06-.94 2.06-2.06.94zm-11 1L8.5 8.5l.94-2.06 2.06-.94-2.06-.94L8.5 2.5l-.94 2.06-2.06.94zm10 10l.94 2.06.94-2.06 2.06-.94-2.06-.94-.94-2.06-.94 2.06-2.06.94z\"/><path d=\"M17.41 7.96l-1.37-1.37c-.4-.4-.92-.59-1.43-.59-.52 0-1.04.2-1.43.59L10.3 9.45l-7.72 7.72c-.78.78-.78 2.05 0 2.83L4 21.41c.39.39.9.59 1.41.59.51 0 1.02-.2 1.41-.59l7.78-7.78 2.81-2.81c.8-.78.8-2.07 0-2.86zM5.41 20L4 18.59l7.72-7.72 1.47 1.35L5.41 20z\"/>\n",
              "  </svg>\n",
              "      </button>\n",
              "      \n",
              "  <style>\n",
              "    .colab-df-container {\n",
              "      display:flex;\n",
              "      flex-wrap:wrap;\n",
              "      gap: 12px;\n",
              "    }\n",
              "\n",
              "    .colab-df-convert {\n",
              "      background-color: #E8F0FE;\n",
              "      border: none;\n",
              "      border-radius: 50%;\n",
              "      cursor: pointer;\n",
              "      display: none;\n",
              "      fill: #1967D2;\n",
              "      height: 32px;\n",
              "      padding: 0 0 0 0;\n",
              "      width: 32px;\n",
              "    }\n",
              "\n",
              "    .colab-df-convert:hover {\n",
              "      background-color: #E2EBFA;\n",
              "      box-shadow: 0px 1px 2px rgba(60, 64, 67, 0.3), 0px 1px 3px 1px rgba(60, 64, 67, 0.15);\n",
              "      fill: #174EA6;\n",
              "    }\n",
              "\n",
              "    [theme=dark] .colab-df-convert {\n",
              "      background-color: #3B4455;\n",
              "      fill: #D2E3FC;\n",
              "    }\n",
              "\n",
              "    [theme=dark] .colab-df-convert:hover {\n",
              "      background-color: #434B5C;\n",
              "      box-shadow: 0px 1px 3px 1px rgba(0, 0, 0, 0.15);\n",
              "      filter: drop-shadow(0px 1px 2px rgba(0, 0, 0, 0.3));\n",
              "      fill: #FFFFFF;\n",
              "    }\n",
              "  </style>\n",
              "\n",
              "      <script>\n",
              "        const buttonEl =\n",
              "          document.querySelector('#df-2309ad31-4a28-4fd4-90ac-697635239441 button.colab-df-convert');\n",
              "        buttonEl.style.display =\n",
              "          google.colab.kernel.accessAllowed ? 'block' : 'none';\n",
              "\n",
              "        async function convertToInteractive(key) {\n",
              "          const element = document.querySelector('#df-2309ad31-4a28-4fd4-90ac-697635239441');\n",
              "          const dataTable =\n",
              "            await google.colab.kernel.invokeFunction('convertToInteractive',\n",
              "                                                     [key], {});\n",
              "          if (!dataTable) return;\n",
              "\n",
              "          const docLinkHtml = 'Like what you see? Visit the ' +\n",
              "            '<a target=\"_blank\" href=https://colab.research.google.com/notebooks/data_table.ipynb>data table notebook</a>'\n",
              "            + ' to learn more about interactive tables.';\n",
              "          element.innerHTML = '';\n",
              "          dataTable['output_type'] = 'display_data';\n",
              "          await google.colab.output.renderOutput(dataTable, element);\n",
              "          const docLink = document.createElement('div');\n",
              "          docLink.innerHTML = docLinkHtml;\n",
              "          element.appendChild(docLink);\n",
              "        }\n",
              "      </script>\n",
              "    </div>\n",
              "  </div>\n",
              "  "
            ]
          },
          "metadata": {},
          "execution_count": 14
        }
      ]
    },
    {
      "cell_type": "code",
      "source": [
        "#dropping the duplicates in the training set, since we are taking few examples, we don't want redundant ones.\n",
        "#Also to prevent the same headline appearing in the unlabeled dataset.\n",
        "train_nodup = train.drop_duplicates() "
      ],
      "metadata": {
        "id": "jcMMk0iIp7Zu"
      },
      "execution_count": null,
      "outputs": []
    },
    {
      "cell_type": "markdown",
      "source": [
        "##First test\n",
        "\n",
        "First we tried with 2 examples for each label, with just one model of PET for each PVP, and downsampling also the development dataset."
      ],
      "metadata": {
        "id": "Sk6N0TSsFFVY"
      }
    },
    {
      "cell_type": "code",
      "source": [
        "new_train_list = []\n",
        "unlabeled_list = []\n",
        "new_dev_list = []"
      ],
      "metadata": {
        "id": "WsrjLZQmeiiZ"
      },
      "execution_count": null,
      "outputs": []
    },
    {
      "cell_type": "code",
      "source": [
        "#We take 2 examples from each label, and the rest become the unlabeled data-set.\n",
        "#Instead, we could also make the new training data-set following the proportion of examples per label.\n",
        "for group in train_nodup.groupby(train_nodup.iloc[:,0]):\n",
        "    label_train = group[1]\n",
        "    new_train = label_train.sample(n=2)\n",
        "    new_train_list.append(new_train)\n",
        "    dropped = label_train.drop(new_train.index)\n",
        "    dropped = dropped.drop([0], axis=1)\n",
        "    unlabeled_list.append(dropped)"
      ],
      "metadata": {
        "id": "jzOKV3P7fJ21"
      },
      "execution_count": null,
      "outputs": []
    },
    {
      "cell_type": "code",
      "source": [
        "#We also downsample the development data-set. Since, having a much bigger\n",
        "# dev than training does not make sense in the scenario that we want to test.\n",
        "for group in dev.groupby(dev.iloc[:,0]):\n",
        "    label_dev = group[1]\n",
        "    new_dev = label_dev.sample(n=3)\n",
        "    new_dev_list.append(new_dev)"
      ],
      "metadata": {
        "id": "UyU9V4F7jRJp"
      },
      "execution_count": null,
      "outputs": []
    },
    {
      "cell_type": "code",
      "source": [
        "new_train_df = pd.concat(new_train_list)\n",
        "unlabeled_df = pd.concat(unlabeled_list)\n",
        "unlabeled_df.insert(0, 'unlabeled', 'unlabeled')\n",
        "new_dev_df = pd.concat(new_dev_list)"
      ],
      "metadata": {
        "id": "gm-kXxuynyeC"
      },
      "execution_count": null,
      "outputs": []
    },
    {
      "cell_type": "code",
      "source": [
        "new_train_df.to_csv(\"/content/drive/MyDrive/Colab Notebooks/PET_Basque/bhtc_corpus/train.tsv\", sep=\"\\t\", index=False, header=False)\n",
        "unlabeled_df.to_csv(\"/content/drive/MyDrive/Colab Notebooks/PET_Basque/bhtc_corpus/unlabeled.tsv\", sep=\"\\t\", index=False, header=False)\n",
        "new_dev_df.to_csv(\"/content/drive/MyDrive/Colab Notebooks/PET_Basque/bhtc_corpus/dev.tsv\", sep=\"\\t\", index=False, header=False)"
      ],
      "metadata": {
        "id": "qYww13v6gL42"
      },
      "execution_count": null,
      "outputs": []
    },
    {
      "cell_type": "code",
      "source": [
        "%cd /content/drive/My Drive/Colab Notebooks/PET_Basque/pet"
      ],
      "metadata": {
        "colab": {
          "base_uri": "https://localhost:8080/"
        },
        "id": "kwxZnuT5tAVH",
        "outputId": "89cc80a4-27fb-4157-f2c6-fe27d563413a"
      },
      "execution_count": null,
      "outputs": [
        {
          "output_type": "stream",
          "name": "stdout",
          "text": [
            "/content/drive/My Drive/Colab Notebooks/PET_Basque/pet\n"
          ]
        }
      ]
    },
    {
      "cell_type": "code",
      "source": [
        "#PET method with the BHTC Corpus using BERTeus as the pretrained model, 1 model per PVP.\n",
        "!python cli.py \\\n",
        "--method pet \\\n",
        "--pattern_ids 0 1 2 \\\n",
        "--data_dir \"/content/drive/MyDrive/Colab Notebooks/PET_Basque/bhtc_corpus\" \\\n",
        "--model_type bert \\\n",
        "--model_name_or_path \"ixa-ehu/berteus-base-cased\" \\\n",
        "--task_name \"basque-topic-classification\" \\\n",
        "--output_dir \"../model-PET_24\" \\\n",
        "--do_train \\\n",
        "--do_eval \\\n",
        "--pet_repetitions 1"
      ],
      "metadata": {
        "id": "l4918qozQfM-"
      },
      "execution_count": null,
      "outputs": []
    },
    {
      "cell_type": "code",
      "source": [
        "#Classification method with the BHTC Corpus using BERTeus as the pretrained model.\n",
        "!python cli.py \\\n",
        "--method sequence_classifier \\\n",
        "--data_dir \"/content/drive/MyDrive/Colab Notebooks/PET_Basque/bhtc_corpus\" \\\n",
        "--model_type bert \\\n",
        "--model_name_or_path \"ixa-ehu/berteus-base-cased\" \\\n",
        "--task_name \"basque-topic-classification\" \\\n",
        "--output_dir \"../model-sc_24\" \\\n",
        "--do_train \\\n",
        "--do_eval \\"
      ],
      "metadata": {
        "id": "3Ys5q_jGmlaK"
      },
      "execution_count": null,
      "outputs": []
    },
    {
      "cell_type": "markdown",
      "source": [
        "##Second test\n",
        "\n",
        "Then we tried with 10 examples for each label, with 3 models for each PVP. "
      ],
      "metadata": {
        "id": "gAa4re_jFsRe"
      }
    },
    {
      "cell_type": "code",
      "source": [
        "new_train_list = []\n",
        "unlabeled_list = []\n",
        "new_dev_list = []"
      ],
      "metadata": {
        "id": "5rYLu7FKGGg1"
      },
      "execution_count": null,
      "outputs": []
    },
    {
      "cell_type": "code",
      "source": [
        "for group in train_nodup.groupby(train_nodup.iloc[:,0]):\n",
        "    label_train = group[1]\n",
        "    new_train = label_train.sample(n=10)\n",
        "    new_train_list.append(new_train)\n",
        "    dropped = label_train.drop(new_train.index)\n",
        "    dropped = dropped.drop([0], axis=1)\n",
        "    unlabeled_list.append(dropped)"
      ],
      "metadata": {
        "id": "zAzhV2-WGGg1"
      },
      "execution_count": null,
      "outputs": []
    },
    {
      "cell_type": "code",
      "source": [
        "for group in dev.groupby(dev.iloc[:,0]):\n",
        "    label_dev = group[1]\n",
        "    new_dev = label_dev.sample(n=5)\n",
        "    new_dev_list.append(new_dev)"
      ],
      "metadata": {
        "id": "zRVFsxY2GGg1"
      },
      "execution_count": null,
      "outputs": []
    },
    {
      "cell_type": "code",
      "source": [
        "new_train_df = pd.concat(new_train_list)\n",
        "unlabeled_df = pd.concat(unlabeled_list)\n",
        "unlabeled_df.insert(0, 'unlabeled', 'unlabeled')\n",
        "new_dev_df = pd.concat(new_dev_list)"
      ],
      "metadata": {
        "id": "2GUgn7kCGGg2"
      },
      "execution_count": null,
      "outputs": []
    },
    {
      "cell_type": "code",
      "source": [
        "new_train_df.to_csv(\"/content/drive/MyDrive/Colab Notebooks/PET_basque/bhtc_corpus/train.tsv\", sep=\"\\t\", index=False, header=False)\n",
        "unlabeled_df.to_csv(\"/content/drive/MyDrive/Colab Notebooks/PET_basque/bhtc_corpus/unlabeled.tsv\", sep=\"\\t\", index=False, header=False)\n",
        "new_dev_df.to_csv(\"/content/drive/MyDrive/Colab Notebooks/PET_basque/bhtc_corpus/dev.tsv\", sep=\"\\t\", index=False, header=False)"
      ],
      "metadata": {
        "id": "Pb6gZlCTGGg2"
      },
      "execution_count": null,
      "outputs": []
    },
    {
      "cell_type": "code",
      "source": [
        "%cd /content/drive/My Drive/Colab Notebooks/PET_basque/pet"
      ],
      "metadata": {
        "colab": {
          "base_uri": "https://localhost:8080/"
        },
        "outputId": "3a1bc2ab-3c4c-4be5-fb4b-77dc6017d3a4",
        "id": "fKXPpu2ZGGg2"
      },
      "execution_count": null,
      "outputs": [
        {
          "output_type": "stream",
          "name": "stdout",
          "text": [
            "/content/drive/My Drive/Colab Notebooks/PET_basque/pet\n"
          ]
        }
      ]
    },
    {
      "cell_type": "code",
      "source": [
        "#CLassification method with the BHTC Corpus using BERTeus as the pretrained model.\n",
        "!python cli.py \\\n",
        "--method sequence_classifier \\\n",
        "--data_dir \"/content/drive/MyDrive/Colab Notebooks/PET_Basque/bhtc_corpus\" \\\n",
        "--model_type bert \\\n",
        "--model_name_or_path \"ixa-ehu/berteus-base-cased\" \\\n",
        "--task_name \"basque-topic-classification\" \\\n",
        "--output_dir \"../model_sc\" \\\n",
        "--do_train \\\n",
        "--do_eval \\"
      ],
      "metadata": {
        "id": "U5M8VKYLGGg3"
      },
      "execution_count": null,
      "outputs": []
    },
    {
      "cell_type": "code",
      "source": [
        "#PET method with the BHTC Corpus using BERTeus as the pretrained model, 3 models per PVP.\n",
        "!python cli.py \\\n",
        "--method pet \\\n",
        "--pattern_ids 0 1 2 \\\n",
        "--data_dir \"/content/drive/MyDrive/Colab Notebooks/PET_Basque/bhtc_corpus\" \\\n",
        "--model_type bert \\\n",
        "--model_name_or_path \"ixa-ehu/berteus-base-cased\" \\\n",
        "--task_name \"basque-topic-classification\" \\\n",
        "--output_dir \"../model-PET_120\" \\\n",
        "--do_train \\\n",
        "--do_eval \\"
      ],
      "metadata": {
        "id": "uVMuWVOCGGg2"
      },
      "execution_count": null,
      "outputs": []
    },
    {
      "cell_type": "code",
      "source": [
        "#iPET method with the BHTC Corpus using BERTeus as the pretrained model, 3 models per PVP.\n",
        "!python cli.py \\\n",
        "--method ipet \\\n",
        "--pattern_ids 0 1 2 \\\n",
        "--data_dir \"/content/drive/MyDrive/Colab Notebooks/PET_basque/bhtc_corpus\" \\\n",
        "--model_type bert \\\n",
        "--model_name_or_path \"ixa-ehu/berteus-base-cased\" \\\n",
        "--task_name \"basque-topic-classification\" \\\n",
        "--output_dir \"../model-iPET_120\" \\\n",
        "--do_train \\\n",
        "--do_eval \\\n",
        "--overwrite_output_dir #restarting the training from the last model created"
      ],
      "metadata": {
        "id": "G6mE-1G2lIlx"
      },
      "execution_count": null,
      "outputs": []
    }
  ]
}